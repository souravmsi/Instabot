{
 "cells": [
  {
   "cell_type": "markdown",
   "metadata": {},
   "source": [
    "## Important Libraries"
   ]
  },
  {
   "cell_type": "code",
   "execution_count": 1,
   "metadata": {},
   "outputs": [],
   "source": [
    "from selenium import webdriver\n",
    "from selenium.webdriver.support.ui import WebDriverWait\n",
    "from selenium.webdriver.support import expected_conditions as EC\n",
    "from selenium.webdriver.common.by import By\n",
    "from selenium.common.exceptions import NoSuchElementException\n",
    "import time\n",
    "import numpy as np\n",
    "import matplotlib.pyplot as plt\n",
    "import pandas as pd\n",
    "import numpy as np"
   ]
  },
  {
   "cell_type": "markdown",
   "metadata": {},
   "source": [
    "## Starting the Chrome Driver Session"
   ]
  },
  {
   "cell_type": "code",
   "execution_count": 2,
   "metadata": {},
   "outputs": [],
   "source": [
    "driver = webdriver.Chrome(executable_path = 'c:Downloads/chromedriver.exe')\n",
    "driver.get('https://www.instagram.com/')\n",
    "driver.maximize_window()"
   ]
  },
  {
   "cell_type": "markdown",
   "metadata": {},
   "source": [
    "## Entering the Login Credentials"
   ]
  },
  {
   "cell_type": "code",
   "execution_count": 3,
   "metadata": {},
   "outputs": [],
   "source": [
    "wait = WebDriverWait(driver,10).until(EC.presence_of_element_located((By.CLASS_NAME,'f0n8F ')))\n",
    "username = driver.find_element_by_name('username')\n",
    "password = driver.find_element_by_name('password')\n",
    "username.send_keys('UserName')\n",
    "password.send_keys('Password')\n",
    "password.submit()"
   ]
  },
  {
   "cell_type": "markdown",
   "metadata": {},
   "source": [
    "## Supressing the Save info and Notification Window"
   ]
  },
  {
   "cell_type": "code",
   "execution_count": 4,
   "metadata": {},
   "outputs": [],
   "source": [
    "save_info = WebDriverWait(driver,10).until(EC.presence_of_element_located((By.CLASS_NAME,'cmbtv')))\n",
    "save_info.click()\n",
    "notification = WebDriverWait(driver,10).until(EC.presence_of_element_located((By.CLASS_NAME,\"HoLwm\")))\n",
    "notification.click()"
   ]
  },
  {
   "cell_type": "markdown",
   "metadata": {},
   "source": [
    "## Enabling the Search box by clicking on it"
   ]
  },
  {
   "cell_type": "code",
   "execution_count": 5,
   "metadata": {},
   "outputs": [],
   "source": [
    "search_wait = WebDriverWait(driver,10).until(EC.presence_of_element_located((By.CLASS_NAME,'eyXLr ')))\n",
    "search_box = driver.find_element_by_class_name('TqC_a').click()"
   ]
  },
  {
   "cell_type": "markdown",
   "metadata": {},
   "source": [
    "## Searching for food in the search box"
   ]
  },
  {
   "cell_type": "code",
   "execution_count": 6,
   "metadata": {},
   "outputs": [],
   "source": [
    "search_box = driver.find_element_by_class_name('XTCLo ')\n",
    "search_box.send_keys('food')\n",
    "wait=WebDriverWait(driver, 10).until(EC.presence_of_element_located((By.XPATH, '//a[contains(@class,\"-qQT3\")]//div[contains(@class,\"_7UhW9\")]/div/div')))"
   ]
  },
  {
   "cell_type": "code",
   "execution_count": 7,
   "metadata": {},
   "outputs": [],
   "source": [
    "food_list = []\n",
    "for i in driver.find_elements_by_xpath('//a[contains(@class,\"-qQT3\")]//div[contains(@class,\"_7UhW9\")]/div/div'):\n",
    "    name = i.get_attribute('innerHTML')\n",
    "    if 'span' not in name:\n",
    "        food_list.append(name)"
   ]
  },
  {
   "cell_type": "markdown",
   "metadata": {},
   "source": [
    "## Printing Top 10 Profiles "
   ]
  },
  {
   "cell_type": "code",
   "execution_count": 8,
   "metadata": {},
   "outputs": [
    {
     "data": {
      "text/plain": [
       "['dilsefoodie',\n",
       " 'delhifoodguide',\n",
       " 'foodie__planet',\n",
       " 'delhifoodwalks',\n",
       " 'delhi_street_food1',\n",
       " 'yourfoodlab',\n",
       " 'street_food_chandigarh',\n",
       " 'streetfooderss',\n",
       " 'thefoodranger',\n",
       " 'foodie_incarnate']"
      ]
     },
     "execution_count": 8,
     "metadata": {},
     "output_type": "execute_result"
    }
   ],
   "source": [
    "food_list.remove('food')\n",
    "food_list = food_list[0:10]\n",
    "food_list"
   ]
  },
  {
   "cell_type": "markdown",
   "metadata": {},
   "source": [
    "## Function for Converting the followers from string to int"
   ]
  },
  {
   "cell_type": "code",
   "execution_count": 9,
   "metadata": {},
   "outputs": [],
   "source": [
    "def get_followers(num):\n",
    "    if 'k' in num:\n",
    "        new_num = int(round(float(num[:-1])*1000,2))\n",
    "    elif 'm' in num:\n",
    "        new_num = int(round(float(num[:-1])*1000000,2))\n",
    "    else:\n",
    "        new_num = int(\"\".join(num.split(',')))\n",
    "    return new_num"
   ]
  },
  {
   "cell_type": "code",
   "execution_count": 10,
   "metadata": {},
   "outputs": [],
   "source": [
    "clear_search = driver.find_element_by_class_name('coreSpriteSearchClear')\n",
    "clear_search.click()"
   ]
  },
  {
   "cell_type": "markdown",
   "metadata": {},
   "source": [
    "## Storing the followers of top 10 profiles"
   ]
  },
  {
   "cell_type": "code",
   "execution_count": 11,
   "metadata": {},
   "outputs": [],
   "source": [
    "followers_list = []\n",
    "for profile in food_list:\n",
    "    driver.find_element_by_class_name('TqC_a').click()\n",
    "    driver.find_element_by_class_name('XTCLo ').send_keys(profile)\n",
    "    WebDriverWait(driver,10).until(EC.presence_of_element_located((By.CLASS_NAME,\"fuqBx\")))\n",
    "    WebDriverWait(driver, 10).until(EC.presence_of_element_located((By.XPATH, '//a[contains(@class,\"-qQT3\")]/div/div/div')))\n",
    "    driver.find_element_by_xpath('//div[contains(@class,\"fuqBx\")]/div').click()\n",
    "    time.sleep(3)\n",
    "    WebDriverWait(driver, 10).until(EC.presence_of_element_located((By.CLASS_NAME,'Nnq7C')))\n",
    "    num = driver.find_elements_by_class_name('g47SY')[1].get_attribute('innerHTML')\n",
    "    followers = get_followers(num)\n",
    "    followers_list.append(followers)"
   ]
  },
  {
   "cell_type": "markdown",
   "metadata": {},
   "source": [
    "## Printing Top 5 Profiles having maximum followers amongst the top 10 profiles"
   ]
  },
  {
   "cell_type": "code",
   "execution_count": 12,
   "metadata": {},
   "outputs": [
    {
     "name": "stdout",
     "output_type": "stream",
     "text": [
      "yourfoodlab\n",
      "thefoodranger\n",
      "dilsefoodie\n",
      "foodie_incarnate\n",
      "delhifoodwalks\n"
     ]
    }
   ],
   "source": [
    "index = np.argsort(followers_list)\n",
    "top5 = []\n",
    "top5_followers = []\n",
    "for i in index[-1:-6:-1]:\n",
    "    top5.append(food_list[i])\n",
    "    top5_followers.append(followers_list[i])\n",
    "    print(food_list[i])"
   ]
  },
  {
   "cell_type": "markdown",
   "metadata": {},
   "source": [
    "## Printing and Storing the number of posts of Top 5 users having maximum followers that have been posted in last 3 days"
   ]
  },
  {
   "cell_type": "code",
   "execution_count": 13,
   "metadata": {},
   "outputs": [
    {
     "name": "stdout",
     "output_type": "stream",
     "text": [
      "yourfoodlab  has Posted  2  posts in last 3 days\n",
      "thefoodranger  has Posted  1  posts in last 3 days\n",
      "dilsefoodie  has Posted  4  posts in last 3 days\n",
      "foodie_incarnate  has Posted  6  posts in last 3 days\n",
      "delhifoodwalks  has Posted  5  posts in last 3 days\n"
     ]
    }
   ],
   "source": [
    "Num_posts = []\n",
    "for user in top5:\n",
    "    driver.find_element_by_class_name('TqC_a').click()\n",
    "    driver.find_element_by_class_name('XTCLo ').send_keys(user)\n",
    "    time.sleep(3)\n",
    "    WebDriverWait(driver, 10).until(EC.presence_of_element_located((By.XPATH, '//a[contains(@class,\"-qQT3\")]//div[contains(@class,\"_7UhW9\")]/div/div')))\n",
    "    driver.find_element_by_xpath('//div[contains(@class,\"fuqBx\")]/div').click()\n",
    "    WebDriverWait(driver, 10).until(EC.presence_of_element_located((By.CLASS_NAME,'Nnq7C')))\n",
    "    driver.find_element_by_xpath('//div[contains(@class,\"Nnq7C\")]/div').click() # Recent Post\n",
    "    count = 0 # post Counter\n",
    "    while True:\n",
    "        time.sleep(3)\n",
    "        WebDriverWait(driver, 10).until(EC.presence_of_element_located((By.XPATH,'//section[contains(@class,\"ltpMr\")]//div[contains(@class,\"QBdPU\")]')))\n",
    "        post_time = driver.find_element_by_xpath('//div[contains(@class,\"NnvRN\")]/a/time').get_attribute('innerHTML')\n",
    "        time_array = post_time.split(' ')\n",
    "        if time_array[1][0] in ['m','s','h']:\n",
    "            count += 1\n",
    "        elif time_array[1][0] == 'd' and float(time_array[0]) <= 3:\n",
    "            count += 1\n",
    "        else:\n",
    "            break\n",
    "        driver.find_element_by_xpath('//div[contains(@class,\"DdSX2\")]/a[contains(@class,\"coreSpriteRightPaginationArrow\")]').click() # next post\n",
    "    print(user ,' has Posted ',count,' posts in last 3 days')\n",
    "    Num_posts.append(count)\n",
    "    driver.find_element_by_xpath('//div[contains(@class,\"_2dDPU\")]/div[3]').click()"
   ]
  },
  {
   "cell_type": "markdown",
   "metadata": {},
   "source": [
    "## Ploting the graphs for the above data"
   ]
  },
  {
   "cell_type": "code",
   "execution_count": 14,
   "metadata": {},
   "outputs": [
    {
     "data": {
      "image/png": "[encoded data removed]",
      "text/plain": [
       "<Figure size 432x288 with 1 Axes>"
      ]
     },
     "metadata": {
      "needs_background": "light"
     },
     "output_type": "display_data"
    },
    {
     "data": {
      "image/png": "[encoded data removed]",
      "text/plain": [
       "<Figure size 432x288 with 1 Axes>"
      ]
     },
     "metadata": {
      "needs_background": "light"
     },
     "output_type": "display_data"
    }
   ],
   "source": [
    "plt.bar(top5,top5_followers,color='blue')\n",
    "plt.grid()\n",
    "plt.xticks(rotation=45)\n",
    "plt.title('Question 1.1')\n",
    "plt.xlabel(' < - - - - -  Users  - - - - - >')\n",
    "plt.ylabel(' < - - - - -  Number of followers  - - - - - >')\n",
    "plt.show()\n",
    "\n",
    "plt.bar(top5,Num_posts,color='g')\n",
    "plt.grid()\n",
    "plt.xticks(rotation=45)\n",
    "plt.title('Question 1.2')\n",
    "plt.xlabel(' < - - - - -  Users  - - - - - >')\n",
    "plt.ylabel(' < - - - - -  Number of posts in last 3 days  - - - - - >')\n",
    "plt.show()"
   ]
  },
  {
   "cell_type": "markdown",
   "metadata": {},
   "source": [
    "## Scraping the caption and Hashtags used in the first 10 posts for top5 users and storing them in the list"
   ]
  },
  {
   "cell_type": "code",
   "execution_count": 15,
   "metadata": {},
   "outputs": [],
   "source": [
    "content = []\n",
    "hashtags = []\n",
    "for user in top5:\n",
    "    driver.find_element_by_class_name('TqC_a').click()\n",
    "    driver.find_element_by_class_name('XTCLo ').send_keys(user)\n",
    "    time.sleep(3)\n",
    "    WebDriverWait(driver, 10).until(EC.presence_of_element_located((By.XPATH, '//a[contains(@class,\"-qQT3\")]//div[contains(@class,\"_7UhW9\")]/div/div')))\n",
    "    driver.find_element_by_xpath('//div[contains(@class,\"fuqBx\")]/div').click()\n",
    "    WebDriverWait(driver, 10).until(EC.presence_of_element_located((By.CLASS_NAME,'Nnq7C')))\n",
    "    driver.find_element_by_xpath('//div[contains(@class,\"Nnq7C\")]/div').click() # Recent Post\n",
    "    count = 10 # post Counter\n",
    "    while count>0:\n",
    "        try:\n",
    "            time.sleep(3)\n",
    "            WebDriverWait(driver, 10).until(EC.presence_of_element_located((By.XPATH,'//section[contains(@class,\"ltpMr\")]//div[contains(@class,\"QBdPU\")]')))\n",
    "            ## post has been opened , caption has to be scrapped\n",
    "            content.append(driver.find_element_by_xpath('//div[contains(@class,\"C4VMK\")]/span').text)\n",
    "            for h in driver.find_elements_by_xpath('//div[contains(@class,\"C4VMK\")]/span/a[contains(@class,\"xil3i\")]'):\n",
    "                hashtags.append(h.text)\n",
    "            driver.find_element_by_xpath('//div[contains(@class,\"DdSX2\")]/a[contains(@class,\"coreSpriteRightPaginationArrow\")]').click() # next post\n",
    "            count -= 1\n",
    "        except NoSuchElementException:\n",
    "            break\n",
    "    driver.find_element_by_xpath('//div[contains(@class,\"_2dDPU\")]/div[3]').click()"
   ]
  },
  {
   "cell_type": "markdown",
   "metadata": {},
   "source": [
    "## Printing captions of all posts"
   ]
  },
  {
   "cell_type": "code",
   "execution_count": 16,
   "metadata": {},
   "outputs": [
    {
     "name": "stdout",
     "output_type": "stream",
     "text": [
      "Mushroom Ghee Roast by Chef @sanjyotkeer\n",
      "\n",
      "Mushroom Ghee roast is an amazing recipe and I absolutely love it. This is one is for the vegetarians, I had got a lot of recipe requests for this one.\n",
      "You can replace the mushrooms with paneer, veggies or even meat if you are a non vegetarian. Some other versions are available in the channel as well so you can have a look. Do try the recipe and let me know! Cheers!\n",
      ".\n",
      ".\n",
      ".\n",
      ".\n",
      "#recipeoftheday #recipevideo #gheeroast #foodphotography #foodporn #foodstagram #streetfood #foodlover #foodpics #streetfoodlover #indiancuisine\n",
      "--------------------------------------------------------------------------------------\n",
      "What’s up guys! New video is up on the YouTube & Facebook channel! Mushroom Ghee roast is an amazing recipe and I absolutely love it. This is one is for the vegetarians, I had got a lot of recipe requests for this one.\n",
      "You can replace the mushrooms with paneer, veggies or even meat if you are a non vegetarian. Some other versions are available in the channel as well so you can have a look. Do try the recipe and let me know! Cheers!\n",
      ".\n",
      ".\n",
      ".\n",
      ".\n",
      "#recipeoftheday #recipevideo #gheeroast #foodphotography #foodporn #foodstagram #streetfood #foodlover #foodpics #streetfoodlover #indiancuisine\n",
      "--------------------------------------------------------------------------------------\n",
      "Goan Egg Curry by Chef @sanjyotkeer\n",
      "\n",
      "Usually majorly Goan curry is prepped with seafood so I just thought of making an egg curry in the same style and believe me it tastes amazing. If you’re a vegetarian, try preparing this with vegetables of corn, just cut thick chunks of corn on the cob and add it to the curry. It tastes amazing. Do try the recipe and let me know! Cheers!\n",
      ".\n",
      ".\n",
      ".\n",
      "#recipeoftheday #recipevideo #foodphotography #foodstagram #foodstylist #foodiesofinstagram #egg #eggcurry #eggs #egglover #goanrecipes #goanfood #sanjyotkeer #yourfoodlab\n",
      "--------------------------------------------------------------------------------------\n",
      "Veg Rajma Burger by Chef @sanjyotkeer\n",
      "\n",
      "This burger recipe will change your veg burger experience. This is one of my favorites, I get asked a lot that how do we make junk healthier and I love to prep up recipes like these. One of the main elements of a burger is the patty and usually in a veg burger we usually turn towards potatoes, this recipe has a high protein rajma patty which not only is healthy but is super delicious. I have prepped up some delicious mango salsa with it along with a garlic dip and some charred onions. This burger will surely blow your mind once you try it! Cheers!\n",
      ".\n",
      ".\n",
      ".\n",
      "#recipe #burger #burgerlove #burgertime #burgerlover #vegburger #vegrecipesofindia #vegetarian #rajma #burgers #sanjyotkeer #yourfoodlab\n",
      "--------------------------------------------------------------------------------------\n",
      "What’s up guys! New video is up on the YouTube & Facebook channel! Usually majorly Goan curry is prepped with seafood so I just thought of making an egg curry in the same style and believe me it tastes amazing. If you’re a vegetarian, try preparing this with vegetables of corn, just cut thick chunks of corn on the cob and add it to the curry. It tastes amazing. Do try the recipe and let me know! Cheers!\n",
      ".\n",
      ".\n",
      ".\n",
      "#recipeoftheday #recipevideo #foodphotography #foodstagram #foodstylist #foodiesofinstagram #egg #eggcurry #eggs #egglover #goanrecipes #goanfood #sanjyotkeer #yourfoodlab\n",
      "--------------------------------------------------------------------------------------\n",
      "Chocolate Cake Shake by Chef @sanjyotkeer\n",
      "Beat the heat with this delicious Chocolate Cake Shake! #YFLQuickies #reelitfeelit #reelsinstagram #reelsvideo #recipeoftheday #recipereels\n",
      "--------------------------------------------------------------------------------------\n",
      "What’s up guys! New video is up on the YouTube & Facebook channel! This burger recipe will change your veg burger experience. This is one of my favorites, I get asked a lot that how do we make junk healthier and I love to prep up recipes like these. One of the main elements of a burger is the patty and usually in a veg burger we usually turn towards potatoes, this recipe has a high protein rajma patty which not only is healthy but is super delicious. I have prepped up some delicious mango salsa with it along with a garlic dip and some charred onions. This burger will surely blow your mind once you try it! Cheers!\n",
      ".\n",
      ".\n",
      ".\n",
      "#recipe #burger #burgerlove #burgertime #burgerlover #vegburger #vegrecipesofindia #vegetarian #rajma #burgers #sanjyotkeer #yourfoodlab\n",
      "--------------------------------------------------------------------------------------\n",
      "NYC Cart Style Chicken & Rice | Chicken Shawarma Rice by Chef @san\n",
      "\n",
      "For the ones who haven’t tried it and don’t know about it, it practically is a chicken shawarma rice which tastes mind blowing.\n",
      "Shawarma style chicken is loaded over saffron flavored rice and is served with a delicious garlic white sauce and a hot sauce for which the recipes are included in the video. Served along with pita and some salad veggies.\n",
      "I had this when I was in New York in 2019 and I absolutely loved it! Do try the recipe and I am sure you will love it!\n",
      "For vegetarians, I have uploaded a paneer versions before, you can check that out on the channel! Cheers!\n",
      ".\n",
      ".\n",
      ".\n",
      "#recipe #food #foodporn #nyc #newyork #shawarma #pitabread #foodie #chicken #rice #nonveg #garlicsauce #sanjyotkeer #cartstylechickenandrice #streetfood #mumbaifoodie\n",
      "--------------------------------------------------------------------------------------\n",
      "Behind the scenes VS Final Shot! This one is from a pasta shoot we did sometime back & sometimes we take take multiple takes for the same shot, what matters is the end result.\n",
      "Should we upload more BTS videos? Let us know!\n",
      ".\n",
      ".\n",
      ".\n",
      "#recipe #reelsinstagram #reelitfeelit #reels #reelsvideo #reelsindia #reelkarofeelkaro\n",
      "--------------------------------------------------------------------------------------\n",
      "Nagpur special Tari Poha Recipe by Chef @sanjyotkeer\n",
      "\n",
      "So a few days back I was in Nagpur and I was waiting to try this from a long time and I finally did. I had received a lot of requests to make a recipe video for the Tari poha and here it is. I have tried to prep it as close as possible to the one I had in Nagpur and the results were amazing. Do try the recipe and let me know! Cheers! ❤️\n",
      ".\n",
      ".\n",
      ".\n",
      ".\n",
      "\n",
      "#recipes #recipeoftheday #foodporn #foodphotography #sanjyotkeer #YourFoodLab #StreetFood\n",
      "--------------------------------------------------------------------------------------\n",
      "extreme salted egg fried chicken burger factory - must watch! @myburgerlab\n",
      "\n",
      "These might be my favourite burgers in the world!!! The salted egg sauce goes so well on these crispy chicken burgers at @myburgerlab , and we were so lucky to be able to watch the making!! I hope you enjoy the video!!\n",
      "--------------------------------------------------------------------------------------\n",
      "Incredible Noodle Skills in Kuala Lumpur, Malaysia - Roberts Char Kuay Teow\n",
      "\n",
      "It feels so good to be back outside eating again! After 3 months indoors due to semi-lockdown, we can now go back out to eat!!! And the first meal back was of course a fried noodle dish, my favourite noodle dish in the world, char kuay teow!!\n",
      "--------------------------------------------------------------------------------------\n",
      "The making of the famous Malaysian salted egg sauce for the salted egg crispy chicken burger at @myburgerlab Malaysia!!! Full of salted egg yolk, spicy chili , curry leaves, milk and ginger and garlic!! A pure Malaysian flavour!!! Seriously delicious!!!\n",
      "\n",
      "I love these burgers so much and ordered them a bunch during lockdown and now came out of lockdown and just ate one in the restaurant and watched the making process, it was incredible!!!\n",
      "\n",
      "Full vid coming soon!! Not sponsored, I just love these burgers!!!\n",
      "--------------------------------------------------------------------------------------\n",
      "Just hit 5M subs on YouTube!!!\n",
      "\n",
      "Just hit 5M subs on YouTube!!! This is so exciting!!! And we are super excited to be able to go out to explore again too!!\n",
      "\n",
      "It's been a while since we've posted a video on YouTube, but good news, we are able to go out and eat again here in KL so we will be going out to eat and share what we find with you in the next few days and weeks!!\n",
      "\n",
      "I can't wait for that first bite of Char Kuay Teow after all these months!! And durian, rendang, street burgers, roti canai, and more!!\n",
      "\n",
      "7 years ago, I had this crazy dream to travel around the world, eat, and make food videos with the goal of showing friendly people through food. And to bring the world a little bit closer together through positive content. And after doing it now for all these years, I think I'll be doing that for my whole life! It's so exciting to have you guys joining along the adventure with us, as we explore the world, and showcase friendly people and delicious food!\n",
      "\n",
      "And 5 million subscribers, I can't believe it! This has been the most amazing journey! And thank you for being a part of it!\n",
      "--------------------------------------------------------------------------------------\n",
      "Happy Chinese New Year! @foodrangerting just put on a massive Chinese New Year feast this evening just for the two of us! Amazing selection of Cantonese dishes and one nice Sichuan spicy and sour chilli oil dumplings! SO full now! Let’s hope the year of the Ox is the year where everything gets better and better and the pandemic goes away!\n",
      "Usually we would fly back to Guangzhou and visit Ting’s family for CNY, but this year is much different. We’ve been indoors for about a month now with the MCO in Malaysia and waiting for the case numbers to drop. As soon as we can, we will go out and travel around the world again and throughout Malaysia again taking you for delicious street food, but for now, we’re staying positive, staying home, doing some home cooking, playing with our new puppy @corgiranger , and waiting it out. Let’s all stay positive everyone! Hope you’re having a great CNY! #CNY\n",
      "--------------------------------------------------------------------------------------\n",
      "Merry Christmas from @foodrangerting, myself, and Muffin @corgiranger !!!! Hope your day is full of happiness and wishing you all the best for the new year!!! Let’s have a great 2021 and hope the world gets back to normal!! ❤️❤️❤️❤️\n",
      "--------------------------------------------------------------------------------------\n",
      "It was truly an honour to receive this certificate of appreciation from Dato’ Sri @nancy.shukri @malaysia.truly.asia ! What an honour!!! We did all of this promotion from the love within our own hearts for Malaysia (not sponsored!) and were recognized for it by Tourism Malaysia! Here are some photos from the event! We will never forget this and are so grateful for this and very happy to be living in Malaysia and making videos here!\n",
      "\n",
      "We moved here last November 2019, right before the pandemic, and were so lucky to get here before most international borders around the world closed. During that time, we have showcased many amazing places all around Malaysia and recently finished uploading our 7 part \"Ultimate Malaysia Food Road Trip\", traveling from KL to Kota Bharu, all up the east coast of Malaysia, which Tourism Malaysia has recognized and given us a certificate of appreciation for! It truly is an honour and we're so grateful for all of you for watching our videos!!! Thanks so much to Tourism Malaysia and Hajah Nancy Haji Shukri for this incredible honour!\n",
      "--------------------------------------------------------------------------------------\n",
      "Incredible Experience With @malaysia.truly.asia !! What an honour!!!\n",
      "\n",
      "Incredible Experience with @malaysia.truly.asia !! What an honour!!! We just received a certificate of appreciation from Tourism Malaysia for showcasing the beauty of Malaysia in our videos! We did all of this promotion from the love within our own hearts for Malaysia (not sponsored!) and were recognized for it by Tourism Malaysia!\n",
      "We moved here last November 2019, right before the pandemic, and were so lucky to get here before most international borders around the world closed. During that time, we have showcased many amazing places and recently finished uploading our 7 part \"Ultimate Malaysia Food Road Trip\", traveling from KL to Kota Bharu, all up the east coast of Malaysia, which Tourism Malaysia has recognized and given us a certificate of appreciation for! It truly is an honour and we're so grateful for all of you for watching our videos!!! Thanks so much to Dato' Sri @nancy.shukri and @malaysia.truly.asia for this incredible honour!\n",
      "--------------------------------------------------------------------------------------\n",
      "The EGG FRY + ROTI KING in Melaka, Malaysia!\n",
      "\n",
      "Found at Roti Canai Kayu Arang - served with roti FLOODED with curry, dal, and sambal and two runny eggs, it doesn't get any better!\n",
      "--------------------------------------------------------------------------------------\n",
      "In the zone editing our last couple of videos from Melaka, Malaysia!!! We are still staying home indoors in Kuala Lumpur, as it’s a semi-lockdown here. As soon as it’s safe and possible to do so, we will explore and eat and make more videos outside. I hope you’re doing well and safe and healthy!! 2020 is almost over! Let’s hope 2021 is much better lol!!\n",
      "--------------------------------------------------------------------------------------\n",
      "The McDonald's app is here with loads of offers. #TheRealDeal\n",
      "\n",
      "Download from your app store and play store now.\n",
      "\n",
      "@mcdonaldsinindia\n",
      "#mcdonalds #realdeal #mcdonaldsapp #dilsefoodie\n",
      "--------------------------------------------------------------------------------------\n",
      "Do you know what’s my new favourite dessert? It’s a surprise of one layer after another!\n",
      "New @KwalityWalls Trixy Cookie Cup !\n",
      "It has 3 Chocolatey 🍫 , Creamy 🍨 and Crunchy 🍪 Layers - All In One Cup! Brilliant right!\n",
      "\n",
      "What are you waiting for? Swipe up my story to buy TRIXY, don't forget to use the code TrixyKaran on Swiggy or Zomato to get a special discount. #KwalityWalls #KwalityWallsTrixy\n",
      "--------------------------------------------------------------------------------------\n",
      "Chicken Curry And Galouti Kebabs At Rajinder Da Dhaba\n",
      "\n",
      "Anyone Still Love This Place ?\n",
      "I Know Bohot Logo Ko Ab Ye Place Overhyped Lagti Hai But Still Galouti And Chicken Curry Is Good Here.\n",
      "#dilsefoodie\n",
      "--------------------------------------------------------------------------------------\n",
      "Surat's Special Locha At Mehta Lochu, LD College, Ahmedabad\n",
      "\n",
      "Which One You Like ?\n",
      "Simple Or Roll ?\n",
      "#dilsefoodie\n",
      "--------------------------------------------------------------------------------------\n",
      "Odeon Gupta Paan\n",
      "\n",
      "Fire Paan To Bohot Khaa Liye Ab Zara Ice Paan Bhi Khaa Liya Jaye 😜.\n",
      "\n",
      "Delhi Ki Garmi Bhagane Ka Yehi Ilaaj Hai Shayad 😂😂😂.\n",
      "#dilsefoodie\n",
      "--------------------------------------------------------------------------------------\n",
      "Halwa Parantha At Nizamuddin Dargah\n",
      "\n",
      "If You Are On Diet Then Please Ignore This Place. Taste Was Good But Too Oily\n",
      "#dilsefoodie #halwa #parantha\n",
      "--------------------------------------------------------------------------------------\n",
      "Mazedaaaar North Indian Food Ordered From @manjeet_kitchen , Rohini\n",
      "\n",
      "Best Was Bhatti Murg (Not Chicken Tikka)And Then Butter Chicken These Two Was Best And Must Try Items.\n",
      "\n",
      "Chicken Tikka Masala Was Also Good If You Like Spicy Food You Cab Order This\n",
      "Check Page : @manjeet_kitchen\n",
      "Swiggy Delivering 7km From Rohini\n",
      "Zomato Delivering 15km From Rohini\n",
      "#dilsefoodie\n",
      "--------------------------------------------------------------------------------------\n",
      "Spiciest Sandwich In Ahmedabad\n",
      "\n",
      "Vasukaka Ni Sandwich At Income Tax, Ashram Road.\n",
      "Have You Been To This Place ?\n",
      "#dilsefoodie\n",
      "--------------------------------------------------------------------------------------\n",
      "Many people ask me how you handle all negative comments ?\n",
      "\n",
      "So here it is you just have to count your blessings your fans and make content for them and ignore your negative commenters ☺️.\n",
      "Ab Iss Post Pe Bhi Gaali Deni Ho To Please Line Se Aana No Dhakka Mukki\n",
      "#dilsefoodie #fans #blessings #hatersgonnahate\n",
      "--------------------------------------------------------------------------------------\n",
      "😂😂😂😂😂😂\n",
      "--------------------------------------------------------------------------------------\n",
      "Mahakal Bhang Ghota🤩🤩 ऐसी ठण्डाई कभी नहीं पी होगी आपने 😳😳\n",
      "\n",
      "Kindly watch the full video for location & other details🤗🤗\n",
      ".\n",
      "#foodieincarnate #sodelhi #newdelhi #foodtalkindia #delhigram #indianfood #delhifoodblogger #foodgasm #foodporn #foodpornshare #foodlover #foodgram #foodiesofinstagram #foodie #indianstreetfood #streetfood #delhistreetfood #streetfoodindia #mumbaistreetfood #delhifoodie #foodblogger #indianfoodie #desikhana #indianfoodblogger #indianfoodbloggers #delhifood #mumbai #delhi #holi #bhaang\n",
      "--------------------------------------------------------------------------------------\n",
      "Next Level Sandwich Making😳😳\n",
      ".\n",
      "Watch the full video in my IGTV🤗🤗\n",
      ".\n",
      "#foodieincarnate #sandwich #sandwiches #mayonnaise #cheesesandwich #indorefood #indore #madhyapradesh #indianfood #streetfood\n",
      "--------------------------------------------------------------------------------------\n",
      "Chambal ke daakuo ka favourite milkcake😳😳\n",
      ".\n",
      "Located amidst the ravines of chambal, infamous for the numerous dacoits who once ruled these ravines (beehad), is a very famous temple by the name of Baba Devpuri Mandir. The prasada of this temple is milkcake which is prepared in the nearby village. Legends have it that the fearsome dacoits of the beehad used to visit this temple often and this milkcake was favourite of many of them!\n",
      "During my journey across Madhya Pradesh, i happened to cross the infamous beehads of chambal. I stopped there, soaked in the natural beauty of the beehads and also enjoyed this kaafi sweet but kaafi delicious milkcake. Next level experience.❤❤\n",
      ".\n",
      "#foodieincarnate #sodelhi #foodtalkindia #desifood #desikhana #delhigram #indianfood #gwalior #kalakand #babadevpuri #ruralindia #incredibleindia #dessert #mithai #delhi #sodelicious #delhifood #mptourism #mumbaibloggers #beehad #indiansweets #chambal #milkcake #madhyapradeshtourism #madhyapradesh #delhifood #indianfoodie #mumbai #morena #dessert\n",
      "--------------------------------------------------------------------------------------\n",
      "Butter Coffee🥵🥵 बस ये ही देखना बाकी रह गया था🤦🏻‍♂️\n",
      "\n",
      "Kindly watch the full video for location & other details🤗🤗\n",
      ".\n",
      "#foodieincarnate #sodelhi #newdelhi #foodtalkindia #delhigram #indianfood #delhifoodblogger #foodgasm #foodporn #foodpornshare #foodlover #foodgram #foodiesofinstagram #foodie #indianstreetfood #streetfood #delhistreetfood #streetfoodindia #mumbaistreetfood #delhifoodie #foodblogger #indianfoodie #desikhana #indianfoodblogger #indianfoodbloggers #delhifood #mumbai #delhi #jamamasjid #coffee\n",
      "--------------------------------------------------------------------------------------\n",
      "Milkgasm!\n",
      ".\n",
      "#foodieincarnate #delhifoodie #delhifood #milk #milkshake #kamlanagar #uttarpradesh #halwai #doodh\n",
      "--------------------------------------------------------------------------------------\n",
      "Traditional flavours of Uttarakhand in Greater Noida🤩🤩\n",
      ".\n",
      "I've explored the local food in Uttarakhand and i was so glad to find the traditional flavours of authentic Kumaoni & Garhwali cuisines at Uttarakhand Food Festival in @radissongreaternoida !\n",
      "\n",
      "From buransh ke phool ka sharbat, tandoori arbi aur til ke kebab, gahat ka shorba, jhangora rice, mandua ki roti, bhatt ki dal to bal mithai..every dish that i tried from their Uttarakhand menu had the authentic taste & flavour. Loved it.❤\n",
      ".\n",
      "You can also #RediscoverUttarakhand with these delicacies at their all day diner- Cross Avenue, from 26th to 28th March in dinner buffet🤗🤗\n",
      ".\n",
      "#foodieincarnate #radisson #radissonblu #sodelhi #newdelhi #greaternoida #uttarakhandfood #garhwalicuisine #kumaonicuisine #garhwalifood #garhwali #kumaoni #kumaonifood #desifood #desikhana #amarsirohi #noidafood #greaternoidafood #uttarakhandfood #bhattkidal #desikhana #regionalcuisine #delhifoodie #delhifoodblogger #delhifoodbloggers #delhifood #indianfood #indianfoodie #pahadifood\n",
      "--------------------------------------------------------------------------------------\n",
      "Biggest Sandwich Making Ever😱😱\n",
      "\n",
      "Only at Madhuram Sandwich in Indore🤗🤗\n",
      ".\n",
      "#foodieincarnate #sodelhi #newdelhi #foodtalkindia #delhigram #indianfood #delhifoodblogger #foodgasm #foodporn #foodpornshare #foodlover #foodgram #foodiesofinstagram #foodie #indianstreetfood #streetfood #delhistreetfood #streetfoodindia #mumbaistreetfood #delhifoodie #foodblogger #indianfoodie #desikhana #indianfoodblogger #indianfoodbloggers #delhifood #mumbai #delhi #indore #sandwich\n",
      "--------------------------------------------------------------------------------------\n",
      "Loving the hospitality of @radissongreaternoida 😌😌\n",
      ".\n",
      "#foodieincarnate #radissonblu #radisson #staycation #breakfastinbed #vacationmode #greaternoida #radissonblugreaternoida #breakfast\n",
      "--------------------------------------------------------------------------------------\n",
      "People won't see your struggle. They will only see your success!\n",
      ".\n",
      "📍Hideaway by @aahmahospitality\n",
      ".\n",
      "#foodieincarnate #amarsirohi #aahma #sodelhi #foodblogger #delhifoodblogger #delhifoodbloggers #delhibloggers #indianfoodblogger #delhifoodbloggers #indianfoodbloggers #jimcorbett #nainital #staycation #meerutblogger #staycations #foodbloggers #lifestyleblogger #hotelblogger #turtleneck #delhiblogger #mumbaiblogger #kolkatablogger #bangaloreblogger #staycations #picoftheday #ramnagar #mainpuri\n",
      "--------------------------------------------------------------------------------------\n",
      "ऐसा Amazing Street Food कभी नहीं dekha hoga aapne 😱😱\n",
      "\n",
      "Kindly watch the full video for address & all details🤗🤗\n",
      ".\n",
      "#foodieincarnate #sodelhi #newdelhi #foodtalkindia #delhigram #indianfood #delhifoodblogger #foodgasm #foodporn #foodpornshare #foodlover #foodgram #foodiesofinstagram #foodie #indianstreetfood #streetfood #delhistreetfood #streetfoodindia #mumbaistreetfood #delhifoodie #foodblogger #indianfoodie #desikhana #indianfoodblogger #indianfoodbloggers #delhifood #mumbai #delhi #farrukhabad #mainpuri\n",
      "--------------------------------------------------------------------------------------\n",
      "New episode featuring a grand Bikaneri Thaal experience at our gracious host @gopalbissa ji's place is now up on our YouTube channel.\n",
      "\n",
      "Gopal ji is a renowned 'safa and pagdi' expert from the city. He is equally passionate about traditional music. So this experience with him was very unique and joyful.\n",
      "\n",
      "Don't miss the fun time we had at the goth which is basically a casual and fun get together.\n",
      "\n",
      "Heartfelt thanks to @mimjhar for making way for this cherished opportunity.\n",
      "\n",
      "Link is in bio so happy viewing.\n",
      "\n",
      "#DFWineBikaner #DFWinRajasthan #BikanerFoodTour #BikanerFood #Bikanericuisine #FoodTour #FoodWalks #TravelforFood #Bikanerstreetfood #walkwithanubhav\n",
      "--------------------------------------------------------------------------------------\n",
      "Hi friends,\n",
      "\n",
      "A mouthwatering and super amusing episode from our Bikaner Food Series will be up on our YouTube channel at 9 PM tonight.\n",
      "\n",
      "Stay tuned for this enticing experience where @anubhav.sapra\n",
      "along with our gracious hosts cum friends Gopal Singh ji (@mimjhar ) and Gopal Bissa Ji (@gopalbissa ) brings you a slice of Bikaner's fascinating culinary and cultural heritage.\n",
      "\n",
      "#DFWineBikaner #DFWinRajasthan #BikanerFoodTour #BikanerFood #Bikanericuisine #FoodTour #FoodWalks #TravelforFood #Bikanerstreetfood #walkwithanubhav\n",
      "--------------------------------------------------------------------------------------\n",
      "This soulful Bikaneri Thali from Indira's in Bikaner gave us a sneak peak into the ingenious and resourceful kitchen narratives from this arid region.\n",
      "\n",
      "Clockwise from right you have the bajre ka sogra(pearl millet flatbread), rabodi ki sabzi(corn papad sabzi), ker kaju(ker and cashew sabzi), gwar patha dana meethi(aloe vera and fenugreek seeds sabzi), bhujiya ro saag(namkeen based sabzi), papad and gajar ka halwa(carrot pudding).\n",
      "\n",
      "For more yummy details do watch our latest YouTube episode.\n",
      "\n",
      "#DFWineBikaner #DFWinRajasthan #BikanerFoodTour #BikanerFood #Bikanericuisine #FoodTour #FoodWalks #TravelforFood #Bikanerstreetfood #walkwithanubhav\n",
      "--------------------------------------------------------------------------------------\n",
      "New episode featuring an evening street food exploration in Bikaner is now up on our YouTube channel.\n",
      "\n",
      "Click on the link in bio to discover the gratifying details of some long established humble food joints of the city and their cherished fares. Happy viewing.\n",
      "\n",
      "Also find out what fun title did @anubhav.sapra\n",
      "earn for his pursuit.\n",
      "\n",
      "#DFWineBikaner #DFWinRajasthan #BikanerFoodTour #BikanerFood #Bikanericuisine #FoodTour #FoodWalks #TravelforFood #Bikanerstreetfood #walkwithanubhav\n",
      "--------------------------------------------------------------------------------------\n",
      "Hello folks.\n",
      "\n",
      "Bikaner Street Food Tour Part II episode will be up on our YouTube channel at 9 PM today. Stay tuned for an evening full of simple traditional food experience and cordial interaction with the owners.\n",
      "\n",
      "Heartfelt thanks to Gopal Ji (@mimjhar ) for taking us on this gratifying gastronomic journey across Bikaner.\n",
      "\n",
      "#DFWineBikaner #DFWinRajasthan #BikanerFoodTour #BikanerFood #Bikanericuisine #FoodTour #FoodWalks #TravelforFood #Bikanerstreetfood #walkwithanubhav\n",
      "--------------------------------------------------------------------------------------\n",
      "Have you heard of Kadhi Puri i.e Kadhi stuffed golgappe or rose flavoured golgappe?\n",
      "\n",
      "We had tried these two unusual fares at Agarwal Caterers in Bikaner, who have the jaw dropping reputation of serving 121 varieties of golgappe.\n",
      "\n",
      "Do watch our latest YouTube episode to discover more details about this wondrous street food place. Link is in bio.\n",
      "\n",
      "#DFWinBikaner #DFWinRajasthan #BikanerFoodTour #BikanerFood #Bikanericuisine #FoodTour #FoodWalks #TravelforFood #Bikanerstreetfood #walkwithanubhav\n",
      "--------------------------------------------------------------------------------------\n",
      "Trying this colourful shaved ice treat called Chatta, in Bikaner was a sheer nostalgic and fun affair because as kids, most of us have had binged on it from our neighbourhood vendors, especially during the scorching summer days.\n",
      "\n",
      "It is probably named so because the shape resembles an umbrella.\n",
      "\n",
      "So since the time we had spotted it during our food tour, we were all excited to dive into the multi flavoured chilled experience.\n",
      "\n",
      "Sri Krishna Chatte Wala is a popular shop in Bikaner that serves this treat along with various other interesting luscious fares.\n",
      "\n",
      "We started with the golden kesariya gulkand chatta but eventually ended up slurping nearly six to eight flavours served on that same shaved ice mass.\n",
      "\n",
      "They also made us try the kulhad faluda which was essentially a delicious multi flavoured falooda served in a clay tumbler with a base of shaved ice.\n",
      "\n",
      "The details are there on our latest YouTube episode.\n",
      "\n",
      "#DFWinBikaner #DFWinRajasthan #BikanerFoodTour #BikanerFood #Bikanericuisine #FoodTour #FoodWalks #TravelforFood #Bikanerstreetfood #walkwithanubhav\n",
      "--------------------------------------------------------------------------------------\n",
      "Bikaner Street Food Tour Part 1 episode is now up on our YouTube channel.\n",
      "\n",
      "Click on the link in bio to enjoy the amusing details of some popular street food treats like Kadhi Puri, Rose Flavoured Golgappe, Kesariya Chatta, Raj Kachori etc. we had tried at some go to snacking places.\n",
      "\n",
      "Also watch it out for some fun interactions with our hosts and vendors.\n",
      "\n",
      "#DFWinBikaner #DFWinRajasthan #BikanerFoodTour #BikanerFood #Bikanericuisine #FoodTour #FoodWalks #TravelforFood #Bikanerstreetfood #walkwithanubhav\n",
      "--------------------------------------------------------------------------------------\n",
      "Hi folks,\n",
      "\n",
      "Today's weekly food exploration episode on our YouTube channel will introduce you to some popular street food places from the city of Bikaner in Rajasthan.\n",
      "\n",
      "Video will drop at 9 PM today so do join in to enjoy this amusing gastronomic journey undertaken by @anubhav.sapra along with our gracious host Gopal Ji (@mimjhar ), founder @rajasthankabiryatra and few of his friends.\n",
      "\n",
      "#DFWinBikaner #DFWinRajasthan #BikanerFoodTour #BikanerFood #Bikanericuisine #FoodTour #FoodWalks #TravelforFood #Bikanerstreetfood #walkwithanubhav\n",
      "--------------------------------------------------------------------------------------\n",
      "Reposted from @dfwexplore\n",
      "\n",
      "Hello folks!\n",
      "\n",
      "In the upcoming episode of Delhi Street Food Exploration Series our food explorer @rohanvinayak is visiting the iconic @ghalib_kabab_corner in Nizamuddin, Delhi to savour a elaborate non veg meal.\n",
      "\n",
      "This place had been spreading smiles on since 1958. Run by the third and fourth generation of Qureshi family, the food here is prepared with minimal yet best ingredients and hence they flavours of they don't fail to leave a mark on your tastebuds.\n",
      "\n",
      "To know more about this exploration, tune into our Youtube, IGTV and Facebook Channel today at 7:00 PM.\n",
      "\n",
      "Till then happy munching.\n",
      "\n",
      "#kebab #chickenkebab #muttonkebab #shamikebab #chickenmalaitikka #rumaliroti #nawabikheer #muttonkorma #chickenkorma #mughlaifeast #dilli #delhigram #delhifoodbloggers #delhifoodwalks #yumm #yummy #nomnom #tasty\n",
      "--------------------------------------------------------------------------------------\n"
     ]
    }
   ],
   "source": [
    "for i in content:\n",
    "    print(i)\n",
    "    print('--------------------------------------------------------------------------------------')"
   ]
  },
  {
   "cell_type": "markdown",
   "metadata": {},
   "source": [
    "## Printing Hashtags with its frequency"
   ]
  },
  {
   "cell_type": "code",
   "execution_count": 17,
   "metadata": {},
   "outputs": [
    {
     "data": {
      "text/plain": [
       "{'#recipeoftheday': 6,\n",
       " '#recipevideo': 4,\n",
       " '#gheeroast': 2,\n",
       " '#foodphotography': 5,\n",
       " '#foodporn': 8,\n",
       " '#foodstagram': 4,\n",
       " '#streetfood': 8,\n",
       " '#foodlover': 6,\n",
       " '#foodpics': 2,\n",
       " '#streetfoodlover': 2,\n",
       " '#indiancuisine': 2,\n",
       " '#foodstylist': 2,\n",
       " '#foodiesofinstagram': 6,\n",
       " '#egg': 2,\n",
       " '#eggcurry': 2,\n",
       " '#eggs': 2,\n",
       " '#egglover': 2,\n",
       " '#goanrecipes': 2,\n",
       " '#goanfood': 2,\n",
       " '#sanjyotkeer': 6,\n",
       " '#yourfoodlab': 4,\n",
       " '#recipe': 4,\n",
       " '#burger': 2,\n",
       " '#burgerlove': 2,\n",
       " '#burgertime': 2,\n",
       " '#burgerlover': 2,\n",
       " '#vegburger': 2,\n",
       " '#vegrecipesofindia': 2,\n",
       " '#vegetarian': 2,\n",
       " '#rajma': 2,\n",
       " '#burgers': 2,\n",
       " '#YFLQuickies': 1,\n",
       " '#reelitfeelit': 2,\n",
       " '#reelsinstagram': 2,\n",
       " '#reelsvideo': 2,\n",
       " '#recipereels': 1,\n",
       " '#food': 1,\n",
       " '#nyc': 1,\n",
       " '#newyork': 1,\n",
       " '#shawarma': 1,\n",
       " '#pitabread': 1,\n",
       " '#foodie': 5,\n",
       " '#chicken': 1,\n",
       " '#rice': 1,\n",
       " '#nonveg': 1,\n",
       " '#garlicsauce': 1,\n",
       " '#cartstylechickenandrice': 1,\n",
       " '#mumbaifoodie': 1,\n",
       " '#reels': 1,\n",
       " '#reelsindia': 1,\n",
       " '#reelkarofeelkaro': 1,\n",
       " '#recipes': 1,\n",
       " '#YourFoodLab': 1,\n",
       " '#StreetFood': 1,\n",
       " '#CNY': 1,\n",
       " '#太好了': 1,\n",
       " '#helpus': 1,\n",
       " '#SaveMyanmar': 1,\n",
       " '#Save': 2,\n",
       " '#Myanmar': 1,\n",
       " '#Burma': 1,\n",
       " '#We': 1,\n",
       " '#need': 1,\n",
       " '#democracy': 1,\n",
       " '#Help': 1,\n",
       " '#us': 1,\n",
       " '#and': 1,\n",
       " '#support': 1,\n",
       " '#our': 1,\n",
       " '#Leader': 1,\n",
       " '#Aung': 1,\n",
       " '#San': 1,\n",
       " '#Suu': 1,\n",
       " '#Kyi': 1,\n",
       " '#government': 1,\n",
       " '#crd': 1,\n",
       " '#TheRealDeal': 1,\n",
       " '#mcdonalds': 1,\n",
       " '#realdeal': 1,\n",
       " '#mcdonaldsapp': 1,\n",
       " '#dilsefoodie': 8,\n",
       " '#KwalityWalls': 1,\n",
       " '#KwalityWallsTrixy': 1,\n",
       " '#halwa': 1,\n",
       " '#parantha': 1,\n",
       " '#foodiechefcafeteria': 1,\n",
       " '#fans': 1,\n",
       " '#blessings': 1,\n",
       " '#hatersgonnahate': 1,\n",
       " '#foodieincarnate': 10,\n",
       " '#sodelhi': 7,\n",
       " '#newdelhi': 5,\n",
       " '#foodtalkindia': 5,\n",
       " '#delhigram': 6,\n",
       " '#indianfood': 7,\n",
       " '#delhifoodblogger': 6,\n",
       " '#foodgasm': 4,\n",
       " '#foodpornshare': 4,\n",
       " '#foodgram': 4,\n",
       " '#indianstreetfood': 4,\n",
       " '#delhistreetfood': 4,\n",
       " '#streetfoodindia': 4,\n",
       " '#mumbaistreetfood': 4,\n",
       " '#delhifoodie': 6,\n",
       " '#foodblogger': 5,\n",
       " '#indianfoodie': 6,\n",
       " '#desikhana': 7,\n",
       " '#indianfoodblogger': 5,\n",
       " '#indianfoodbloggers': 5,\n",
       " '#delhifood': 8,\n",
       " '#mumbai': 5,\n",
       " '#delhi': 5,\n",
       " '#holi': 1,\n",
       " '#bhaang': 1,\n",
       " '#sandwich': 2,\n",
       " '#sandwiches': 1,\n",
       " '#mayonnaise': 1,\n",
       " '#cheesesandwich': 1,\n",
       " '#indorefood': 1,\n",
       " '#indore': 2,\n",
       " '#madhyapradesh': 2,\n",
       " '#desifood': 2,\n",
       " '#gwalior': 1,\n",
       " '#kalakand': 1,\n",
       " '#babadevpuri': 1,\n",
       " '#ruralindia': 1,\n",
       " '#incredibleindia': 1,\n",
       " '#dessert': 2,\n",
       " '#mithai': 1,\n",
       " '#sodelicious': 1,\n",
       " '#mptourism': 1,\n",
       " '#mumbaibloggers': 1,\n",
       " '#beehad': 1,\n",
       " '#indiansweets': 1,\n",
       " '#chambal': 1,\n",
       " '#milkcake': 1,\n",
       " '#madhyapradeshtourism': 1,\n",
       " '#morena': 1,\n",
       " '#jamamasjid': 1,\n",
       " '#coffee': 1,\n",
       " '#milk': 1,\n",
       " '#milkshake': 1,\n",
       " '#kamlanagar': 1,\n",
       " '#uttarpradesh': 1,\n",
       " '#halwai': 1,\n",
       " '#doodh': 1,\n",
       " '#RediscoverUttarakhand': 1,\n",
       " '#radisson': 2,\n",
       " '#radissonblu': 2,\n",
       " '#greaternoida': 2,\n",
       " '#uttarakhandfood': 2,\n",
       " '#garhwalicuisine': 1,\n",
       " '#kumaonicuisine': 1,\n",
       " '#garhwalifood': 1,\n",
       " '#garhwali': 1,\n",
       " '#kumaoni': 1,\n",
       " '#kumaonifood': 1,\n",
       " '#amarsirohi': 2,\n",
       " '#noidafood': 1,\n",
       " '#greaternoidafood': 1,\n",
       " '#bhattkidal': 1,\n",
       " '#regionalcuisine': 1,\n",
       " '#delhifoodbloggers': 4,\n",
       " '#pahadifood': 1,\n",
       " '#staycation': 2,\n",
       " '#breakfastinbed': 1,\n",
       " '#vacationmode': 1,\n",
       " '#radissonblugreaternoida': 1,\n",
       " '#breakfast': 1,\n",
       " '#aahma': 1,\n",
       " '#delhibloggers': 1,\n",
       " '#jimcorbett': 1,\n",
       " '#nainital': 1,\n",
       " '#meerutblogger': 1,\n",
       " '#staycations': 2,\n",
       " '#foodbloggers': 1,\n",
       " '#lifestyleblogger': 1,\n",
       " '#hotelblogger': 1,\n",
       " '#turtleneck': 1,\n",
       " '#delhiblogger': 1,\n",
       " '#mumbaiblogger': 1,\n",
       " '#kolkatablogger': 1,\n",
       " '#bangaloreblogger': 1,\n",
       " '#picoftheday': 1,\n",
       " '#ramnagar': 1,\n",
       " '#mainpuri': 2,\n",
       " '#farrukhabad': 1,\n",
       " '#DFWineBikaner': 5,\n",
       " '#DFWinRajasthan': 9,\n",
       " '#BikanerFoodTour': 9,\n",
       " '#BikanerFood': 9,\n",
       " '#Bikanericuisine': 9,\n",
       " '#FoodTour': 9,\n",
       " '#FoodWalks': 9,\n",
       " '#TravelforFood': 9,\n",
       " '#Bikanerstreetfood': 9,\n",
       " '#walkwithanubhav': 9,\n",
       " '#orderfoodwithFOSA': 1,\n",
       " '#WhatsApp9007500902': 1,\n",
       " '#orderfoodviawhatsapp': 1,\n",
       " '#DFWinBikaner': 4,\n",
       " '#kebab': 1,\n",
       " '#chickenkebab': 1,\n",
       " '#muttonkebab': 1,\n",
       " '#shamikebab': 1,\n",
       " '#chickenmalaitikka': 1,\n",
       " '#rumaliroti': 1,\n",
       " '#nawabikheer': 1,\n",
       " '#muttonkorma': 1,\n",
       " '#chickenkorma': 1,\n",
       " '#mughlaifeast': 1,\n",
       " '#dilli': 1,\n",
       " '#delhifoodwalks': 1,\n",
       " '#yumm': 1,\n",
       " '#yummy': 1,\n",
       " '#nomnom': 1,\n",
       " '#tasty': 1}"
      ]
     },
     "execution_count": 17,
     "metadata": {},
     "output_type": "execute_result"
    }
   ],
   "source": [
    "d = {}\n",
    "for h in hashtags:\n",
    "    d[h] = d.get(h,0)+1\n",
    "d"
   ]
  },
  {
   "cell_type": "markdown",
   "metadata": {},
   "source": [
    "## Creating the CSV File"
   ]
  },
  {
   "cell_type": "code",
   "execution_count": 18,
   "metadata": {},
   "outputs": [],
   "source": [
    "df = pd.DataFrame()\n",
    "df['Words'] = list(d.keys())\n",
    "df['Frequency'] = list(d.values())\n",
    "df.to_csv('Instabot_csv_file.csv')"
   ]
  },
  {
   "cell_type": "markdown",
   "metadata": {},
   "source": [
    "## Printing the hashtags that were most popular among these bloggers"
   ]
  },
  {
   "cell_type": "code",
   "execution_count": 19,
   "metadata": {},
   "outputs": [
    {
     "name": "stdout",
     "output_type": "stream",
     "text": [
      "#recipeoftheday -----------------> 6\n",
      "#recipevideo -----------------> 4\n",
      "#gheeroast -----------------> 2\n",
      "#foodphotography -----------------> 5\n",
      "#foodporn -----------------> 8\n",
      "#foodstagram -----------------> 4\n",
      "#streetfood -----------------> 8\n",
      "#foodlover -----------------> 6\n",
      "#foodpics -----------------> 2\n",
      "#streetfoodlover -----------------> 2\n",
      "#indiancuisine -----------------> 2\n",
      "#foodstylist -----------------> 2\n",
      "#foodiesofinstagram -----------------> 6\n",
      "#egg -----------------> 2\n",
      "#eggcurry -----------------> 2\n",
      "#eggs -----------------> 2\n",
      "#egglover -----------------> 2\n",
      "#goanrecipes -----------------> 2\n",
      "#goanfood -----------------> 2\n",
      "#sanjyotkeer -----------------> 6\n",
      "#yourfoodlab -----------------> 4\n",
      "#recipe -----------------> 4\n",
      "#burger -----------------> 2\n",
      "#burgerlove -----------------> 2\n",
      "#burgertime -----------------> 2\n",
      "#burgerlover -----------------> 2\n",
      "#vegburger -----------------> 2\n",
      "#vegrecipesofindia -----------------> 2\n",
      "#vegetarian -----------------> 2\n",
      "#rajma -----------------> 2\n",
      "#burgers -----------------> 2\n",
      "#YFLQuickies -----------------> 1\n",
      "#reelitfeelit -----------------> 2\n",
      "#reelsinstagram -----------------> 2\n",
      "#reelsvideo -----------------> 2\n",
      "#recipereels -----------------> 1\n",
      "#food -----------------> 1\n",
      "#nyc -----------------> 1\n",
      "#newyork -----------------> 1\n",
      "#shawarma -----------------> 1\n",
      "#pitabread -----------------> 1\n",
      "#foodie -----------------> 5\n",
      "#chicken -----------------> 1\n",
      "#rice -----------------> 1\n",
      "#nonveg -----------------> 1\n",
      "#garlicsauce -----------------> 1\n",
      "#cartstylechickenandrice -----------------> 1\n",
      "#mumbaifoodie -----------------> 1\n",
      "#reels -----------------> 1\n",
      "#reelsindia -----------------> 1\n",
      "#reelkarofeelkaro -----------------> 1\n",
      "#recipes -----------------> 1\n",
      "#YourFoodLab -----------------> 1\n",
      "#StreetFood -----------------> 1\n",
      "#CNY -----------------> 1\n",
      "#太好了 -----------------> 1\n",
      "#helpus -----------------> 1\n",
      "#SaveMyanmar -----------------> 1\n",
      "#Save -----------------> 2\n",
      "#Myanmar -----------------> 1\n",
      "#Burma -----------------> 1\n",
      "#We -----------------> 1\n",
      "#need -----------------> 1\n",
      "#democracy -----------------> 1\n",
      "#Help -----------------> 1\n",
      "#us -----------------> 1\n",
      "#and -----------------> 1\n",
      "#support -----------------> 1\n",
      "#our -----------------> 1\n",
      "#Leader -----------------> 1\n",
      "#Aung -----------------> 1\n",
      "#San -----------------> 1\n",
      "#Suu -----------------> 1\n",
      "#Kyi -----------------> 1\n",
      "#government -----------------> 1\n",
      "#crd -----------------> 1\n",
      "#TheRealDeal -----------------> 1\n",
      "#mcdonalds -----------------> 1\n",
      "#realdeal -----------------> 1\n",
      "#mcdonaldsapp -----------------> 1\n",
      "#dilsefoodie -----------------> 8\n",
      "#KwalityWalls -----------------> 1\n",
      "#KwalityWallsTrixy -----------------> 1\n",
      "#halwa -----------------> 1\n",
      "#parantha -----------------> 1\n",
      "#foodiechefcafeteria -----------------> 1\n",
      "#fans -----------------> 1\n",
      "#blessings -----------------> 1\n",
      "#hatersgonnahate -----------------> 1\n",
      "#foodieincarnate -----------------> 10\n",
      "#sodelhi -----------------> 7\n",
      "#newdelhi -----------------> 5\n",
      "#foodtalkindia -----------------> 5\n",
      "#delhigram -----------------> 6\n",
      "#indianfood -----------------> 7\n",
      "#delhifoodblogger -----------------> 6\n",
      "#foodgasm -----------------> 4\n",
      "#foodpornshare -----------------> 4\n",
      "#foodgram -----------------> 4\n",
      "#indianstreetfood -----------------> 4\n",
      "#delhistreetfood -----------------> 4\n",
      "#streetfoodindia -----------------> 4\n",
      "#mumbaistreetfood -----------------> 4\n",
      "#delhifoodie -----------------> 6\n",
      "#foodblogger -----------------> 5\n",
      "#indianfoodie -----------------> 6\n",
      "#desikhana -----------------> 7\n",
      "#indianfoodblogger -----------------> 5\n",
      "#indianfoodbloggers -----------------> 5\n",
      "#delhifood -----------------> 8\n",
      "#mumbai -----------------> 5\n",
      "#delhi -----------------> 5\n",
      "#holi -----------------> 1\n",
      "#bhaang -----------------> 1\n",
      "#sandwich -----------------> 2\n",
      "#sandwiches -----------------> 1\n",
      "#mayonnaise -----------------> 1\n",
      "#cheesesandwich -----------------> 1\n",
      "#indorefood -----------------> 1\n",
      "#indore -----------------> 2\n",
      "#madhyapradesh -----------------> 2\n",
      "#desifood -----------------> 2\n",
      "#gwalior -----------------> 1\n",
      "#kalakand -----------------> 1\n",
      "#babadevpuri -----------------> 1\n",
      "#ruralindia -----------------> 1\n",
      "#incredibleindia -----------------> 1\n",
      "#dessert -----------------> 2\n",
      "#mithai -----------------> 1\n",
      "#sodelicious -----------------> 1\n",
      "#mptourism -----------------> 1\n",
      "#mumbaibloggers -----------------> 1\n",
      "#beehad -----------------> 1\n",
      "#indiansweets -----------------> 1\n",
      "#chambal -----------------> 1\n",
      "#milkcake -----------------> 1\n",
      "#madhyapradeshtourism -----------------> 1\n",
      "#morena -----------------> 1\n",
      "#jamamasjid -----------------> 1\n",
      "#coffee -----------------> 1\n",
      "#milk -----------------> 1\n",
      "#milkshake -----------------> 1\n",
      "#kamlanagar -----------------> 1\n",
      "#uttarpradesh -----------------> 1\n",
      "#halwai -----------------> 1\n",
      "#doodh -----------------> 1\n",
      "#RediscoverUttarakhand -----------------> 1\n",
      "#radisson -----------------> 2\n",
      "#radissonblu -----------------> 2\n",
      "#greaternoida -----------------> 2\n",
      "#uttarakhandfood -----------------> 2\n",
      "#garhwalicuisine -----------------> 1\n",
      "#kumaonicuisine -----------------> 1\n",
      "#garhwalifood -----------------> 1\n",
      "#garhwali -----------------> 1\n",
      "#kumaoni -----------------> 1\n",
      "#kumaonifood -----------------> 1\n",
      "#amarsirohi -----------------> 2\n",
      "#noidafood -----------------> 1\n",
      "#greaternoidafood -----------------> 1\n",
      "#bhattkidal -----------------> 1\n",
      "#regionalcuisine -----------------> 1\n",
      "#delhifoodbloggers -----------------> 4\n",
      "#pahadifood -----------------> 1\n",
      "#staycation -----------------> 2\n",
      "#breakfastinbed -----------------> 1\n",
      "#vacationmode -----------------> 1\n",
      "#radissonblugreaternoida -----------------> 1\n",
      "#breakfast -----------------> 1\n",
      "#aahma -----------------> 1\n",
      "#delhibloggers -----------------> 1\n",
      "#jimcorbett -----------------> 1\n",
      "#nainital -----------------> 1\n",
      "#meerutblogger -----------------> 1\n",
      "#staycations -----------------> 2\n",
      "#foodbloggers -----------------> 1\n",
      "#lifestyleblogger -----------------> 1\n",
      "#hotelblogger -----------------> 1\n",
      "#turtleneck -----------------> 1\n",
      "#delhiblogger -----------------> 1\n",
      "#mumbaiblogger -----------------> 1\n",
      "#kolkatablogger -----------------> 1\n",
      "#bangaloreblogger -----------------> 1\n",
      "#picoftheday -----------------> 1\n",
      "#ramnagar -----------------> 1\n",
      "#mainpuri -----------------> 2\n",
      "#farrukhabad -----------------> 1\n",
      "#DFWineBikaner -----------------> 5\n",
      "#DFWinRajasthan -----------------> 9\n",
      "#BikanerFoodTour -----------------> 9\n",
      "#BikanerFood -----------------> 9\n",
      "#Bikanericuisine -----------------> 9\n",
      "#FoodTour -----------------> 9\n",
      "#FoodWalks -----------------> 9\n",
      "#TravelforFood -----------------> 9\n",
      "#Bikanerstreetfood -----------------> 9\n",
      "#walkwithanubhav -----------------> 9\n",
      "#orderfoodwithFOSA -----------------> 1\n",
      "#WhatsApp9007500902 -----------------> 1\n",
      "#orderfoodviawhatsapp -----------------> 1\n",
      "#DFWinBikaner -----------------> 4\n",
      "#kebab -----------------> 1\n",
      "#chickenkebab -----------------> 1\n",
      "#muttonkebab -----------------> 1\n",
      "#shamikebab -----------------> 1\n",
      "#chickenmalaitikka -----------------> 1\n",
      "#rumaliroti -----------------> 1\n",
      "#nawabikheer -----------------> 1\n",
      "#muttonkorma -----------------> 1\n",
      "#chickenkorma -----------------> 1\n",
      "#mughlaifeast -----------------> 1\n",
      "#dilli -----------------> 1\n",
      "#delhifoodwalks -----------------> 1\n",
      "#yumm -----------------> 1\n",
      "#yummy -----------------> 1\n",
      "#nomnom -----------------> 1\n",
      "#tasty -----------------> 1\n"
     ]
    }
   ],
   "source": [
    "sorted_d = {k: v for k, v in sorted(d.items(), key=lambda item: item[1],reverse=True)}\n",
    "for keys,value in d.items():\n",
    "    print(keys,'----------------->',value)"
   ]
  },
  {
   "cell_type": "markdown",
   "metadata": {},
   "source": [
    "## Ploting the Pie Chart"
   ]
  },
  {
   "cell_type": "code",
   "execution_count": 20,
   "metadata": {},
   "outputs": [
    {
     "data": {
      "image/png": "[encoded data removed]",
      "text/plain": [
       "<Figure size 432x288 with 1 Axes>"
      ]
     },
     "metadata": {},
     "output_type": "display_data"
    }
   ],
   "source": [
    "plt.pie(list(sorted_d.values())[0:5],labels=list(sorted_d.keys())[0:5],autopct='%.2f%%')\n",
    "plt.show()"
   ]
  },
  {
   "cell_type": "markdown",
   "metadata": {},
   "source": [
    "## Finding out the likes of the top 10 posts of the 5 handles obtained earlier."
   ]
  },
  {
   "cell_type": "code",
   "execution_count": 21,
   "metadata": {},
   "outputs": [],
   "source": [
    "likes = []\n",
    "for user in top5:\n",
    "    driver.find_element_by_class_name('TqC_a').click()\n",
    "    driver.find_element_by_class_name('XTCLo ').send_keys(user)\n",
    "    time.sleep(3)\n",
    "    WebDriverWait(driver, 10).until(EC.presence_of_element_located((By.XPATH, '//a[contains(@class,\"-qQT3\")]//div[contains(@class,\"_7UhW9\")]/div/div')))\n",
    "    driver.find_element_by_xpath('//div[contains(@class,\"fuqBx\")]/div').click()\n",
    "    WebDriverWait(driver, 10).until(EC.presence_of_element_located((By.CLASS_NAME,'Nnq7C')))\n",
    "    driver.find_element_by_xpath('//div[contains(@class,\"Nnq7C\")]/div').click() # Recent Post\n",
    "    count = 10 # post Counter\n",
    "    num_likes = 0\n",
    "    while count>0:\n",
    "        try:\n",
    "            time.sleep(3)\n",
    "            WebDriverWait(driver, 10).until(EC.presence_of_element_located((By.XPATH,'//section[contains(@class,\"ltpMr\")]//div[contains(@class,\"QBdPU\")]')))\n",
    "            ## post has been opened , likes has to be scrapped\n",
    "            try: # for image\n",
    "                l = driver.find_element_by_xpath('//div[contains(@class,\"eo2As\")]/section[2]/div/div/a/span').text\n",
    "                l = int(''.join(l.split(',')))\n",
    "#                 print(count,'-','Image',l)\n",
    "                num_likes += l\n",
    "                driver.find_element_by_xpath('//div[contains(@class,\"DdSX2\")]/a[contains(@class,\"coreSpriteRightPaginationArrow\")]').click() # next post\n",
    "                count -= 1\n",
    "            except NoSuchElementException: # for video or igtv\n",
    "                driver.find_element_by_class_name('vcOH2').click()\n",
    "                l = driver.find_element_by_xpath('//div[contains(@class,\"vJRqr\")]/span').text # for video\n",
    "                l = int(''.join(l.split(',')))\n",
    "#                 print(count,'-','video',l)\n",
    "                num_likes += l\n",
    "                driver.find_element_by_class_name('QhbhU').click()\n",
    "                driver.find_element_by_xpath('//div[contains(@class,\"DdSX2\")]/a[contains(@class,\"coreSpriteRightPaginationArrow\")]').click() # next post\n",
    "                count -= 1\n",
    "        except NoSuchElementException:\n",
    "            print('this')\n",
    "            break\n",
    "    driver.find_element_by_xpath('//div[contains(@class,\"_2dDPU\")]/div[3]').click()\n",
    "    likes.append(num_likes)"
   ]
  },
  {
   "cell_type": "markdown",
   "metadata": {},
   "source": [
    "## printing the number of likes on the top 10 posts of top5 handles"
   ]
  },
  {
   "cell_type": "code",
   "execution_count": 22,
   "metadata": {},
   "outputs": [
    {
     "name": "stdout",
     "output_type": "stream",
     "text": [
      "[472280, 223181, 130138, 156850, 8271]\n"
     ]
    }
   ],
   "source": [
    "print(likes)"
   ]
  },
  {
   "cell_type": "code",
   "execution_count": 23,
   "metadata": {},
   "outputs": [
    {
     "data": {
      "image/png": "[encoded data removed]",
      "text/plain": [
       "<Figure size 432x288 with 1 Axes>"
      ]
     },
     "metadata": {
      "needs_background": "light"
     },
     "output_type": "display_data"
    }
   ],
   "source": [
    "plt.bar(top5,likes,color='g')\n",
    "plt.grid()\n",
    "plt.xticks(rotation=45)\n",
    "plt.xlabel(' < - - - - -  Users  - - - - - >')\n",
    "plt.ylabel(' < - - - - -  Likes on first 10 posts  - - - - - >')\n",
    "plt.show()"
   ]
  },
  {
   "cell_type": "markdown",
   "metadata": {},
   "source": [
    "## Calculating the average likes for a handles"
   ]
  },
  {
   "cell_type": "code",
   "execution_count": 24,
   "metadata": {},
   "outputs": [
    {
     "name": "stdout",
     "output_type": "stream",
     "text": [
      "[47228.  22318.1 13013.8 15685.    827.1]\n"
     ]
    }
   ],
   "source": [
    "avg_likes = np.array(likes)/10\n",
    "print(avg_likes)"
   ]
  },
  {
   "cell_type": "code",
   "execution_count": 25,
   "metadata": {},
   "outputs": [
    {
     "data": {
      "image/png": "[encoded data removed]",
      "text/plain": [
       "<Figure size 432x288 with 1 Axes>"
      ]
     },
     "metadata": {
      "needs_background": "light"
     },
     "output_type": "display_data"
    }
   ],
   "source": [
    "plt.bar(top5,avg_likes,color='b')\n",
    "plt.grid()\n",
    "plt.xticks(rotation=45)\n",
    "plt.xlabel(' < - - - - -  Users  - - - - - >')\n",
    "plt.ylabel(' < - - - - -  Average likes on first 10 posts  - - - - - >')\n",
    "plt.show()"
   ]
  },
  {
   "cell_type": "markdown",
   "metadata": {},
   "source": [
    "## Dividing the average likes obtained from the number of followers of the handle to get the average followers:like ratio of each handle."
   ]
  },
  {
   "cell_type": "code",
   "execution_count": 26,
   "metadata": {},
   "outputs": [
    {
     "name": "stdout",
     "output_type": "stream",
     "text": [
      "[ 33.87820784  43.37286776  57.2469225   17.66018489 168.05706686]\n"
     ]
    }
   ],
   "source": [
    "ratio = np.array(top5_followers)/avg_likes\n",
    "print(ratio)"
   ]
  },
  {
   "cell_type": "markdown",
   "metadata": {},
   "source": [
    "## Creating a bar graph to depict the above obtained information."
   ]
  },
  {
   "cell_type": "code",
   "execution_count": 27,
   "metadata": {},
   "outputs": [
    {
     "data": {
      "image/png": "[encoded data removed]",
      "text/plain": [
       "<Figure size 432x288 with 1 Axes>"
      ]
     },
     "metadata": {
      "needs_background": "light"
     },
     "output_type": "display_data"
    }
   ],
   "source": [
    "plt.bar(top5,ratio,color='r')\n",
    "plt.grid()\n",
    "plt.xticks(rotation=45)\n",
    "plt.xlabel(' < - - - - -  Users  - - - - - >')\n",
    "plt.ylabel(' < - - - - -  Average followers to like ratio  - - - - - >')\n",
    "plt.show()"
   ]
  },
  {
   "cell_type": "code",
   "execution_count": null,
   "metadata": {},
   "outputs": [],
   "source": []
  },
  {
   "cell_type": "code",
   "execution_count": null,
   "metadata": {},
   "outputs": [],
   "source": []
  }
 ],
 "metadata": {
  "kernelspec": {
   "display_name": "Python 3",
   "language": "python",
   "name": "python3"
  },
  "language_info": {
   "codemirror_mode": {
    "name": "ipython",
    "version": 3
   },
   "file_extension": ".py",
   "mimetype": "text/x-python",
   "name": "python",
   "nbconvert_exporter": "python",
   "pygments_lexer": "ipython3",
   "version": "3.8.5"
  }
 },
 "nbformat": 4,
 "nbformat_minor": 4
}
